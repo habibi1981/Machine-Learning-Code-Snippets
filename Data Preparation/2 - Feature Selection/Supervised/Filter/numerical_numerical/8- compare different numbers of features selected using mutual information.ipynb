{
 "cells": [
  {
   "cell_type": "code",
   "execution_count": 3,
   "metadata": {},
   "outputs": [],
   "source": [
    "from numpy import mean, std\n",
    "from sklearn.datasets import make_regression\n",
    "from sklearn.model_selection import cross_val_score, RepeatedKFold\n",
    "from sklearn.feature_selection import  SelectKBest, mutual_info_regression\n",
    "from sklearn.linear_model import LinearRegression\n",
    "from sklearn.pipeline import Pipeline\n",
    "from matplotlib import pyplot\n"
   ]
  },
  {
   "cell_type": "code",
   "execution_count": 4,
   "metadata": {},
   "outputs": [],
   "source": [
    "X, y = make_regression(n_samples=1000, n_features=100, n_informative=10, noise=0.1, random_state=1)"
   ]
  },
  {
   "cell_type": "code",
   "execution_count": 5,
   "metadata": {},
   "outputs": [],
   "source": [
    "num_features = [i for i in range(X.shape[1] - 19, X.shape[1] + 1)]"
   ]
  },
  {
   "cell_type": "code",
   "execution_count": 6,
   "metadata": {},
   "outputs": [],
   "source": [
    "results = list()"
   ]
  },
  {
   "cell_type": "code",
   "execution_count": 7,
   "metadata": {},
   "outputs": [
    {
     "name": "stdout",
     "output_type": "stream",
     "text": [
      ">81 -0.082 (0.006)\n",
      ">82 -0.082 (0.006)\n",
      ">83 -0.082 (0.006)\n",
      ">84 -0.082 (0.006)\n",
      ">85 -0.082 (0.006)\n",
      ">86 -0.082 (0.006)\n",
      ">87 -0.082 (0.006)\n",
      ">88 -0.082 (0.006)\n",
      ">89 -0.083 (0.006)\n",
      ">90 -0.083 (0.006)\n",
      ">91 -0.083 (0.006)\n",
      ">92 -0.083 (0.006)\n",
      ">93 -0.083 (0.006)\n",
      ">94 -0.083 (0.006)\n",
      ">95 -0.083 (0.006)\n",
      ">96 -0.083 (0.006)\n",
      ">97 -0.083 (0.006)\n",
      ">98 -0.083 (0.006)\n",
      ">99 -0.083 (0.006)\n",
      ">100 -0.083 (0.006)\n"
     ]
    }
   ],
   "source": [
    "for k in num_features:\n",
    "    model = LinearRegression()\n",
    "    fs = SelectKBest(score_func=mutual_info_regression, k=k)\n",
    "    pipeline = Pipeline(steps=[('sel',fs), ('lr',model)])\n",
    "    cv = RepeatedKFold(n_splits=10, n_repeats=3, random_state=1)\n",
    "    scores = cross_val_score(pipeline, X, y, scoring='neg_mean_absolute_error', cv=cv, n_jobs=-1)\n",
    "    results.append(scores)\n",
    "    print('>%d %.3f (%.3f)' % (k, mean(scores), std(scores)))"
   ]
  },
  {
   "cell_type": "code",
   "execution_count": 8,
   "metadata": {},
   "outputs": [
    {
     "data": {
      "image/png": "[encoded data removed]",
      "text/plain": [
       "<Figure size 432x288 with 1 Axes>"
      ]
     },
     "metadata": {
      "needs_background": "light"
     },
     "output_type": "display_data"
    }
   ],
   "source": [
    "pyplot.boxplot(results, labels=num_features, showmeans=True)\n",
    "pyplot.show()"
   ]
  },
  {
   "cell_type": "code",
   "execution_count": null,
   "metadata": {},
   "outputs": [],
   "source": []
  }
 ],
 "metadata": {
  "kernelspec": {
   "display_name": "Python 3",
   "language": "python",
   "name": "python3"
  },
  "language_info": {
   "codemirror_mode": {
    "name": "ipython",
    "version": 3
   },
   "file_extension": ".py",
   "mimetype": "text/x-python",
   "name": "python",
   "nbconvert_exporter": "python",
   "pygments_lexer": "ipython3",
   "version": "3.8.3"
  }
 },
 "nbformat": 4,
 "nbformat_minor": 4
}
