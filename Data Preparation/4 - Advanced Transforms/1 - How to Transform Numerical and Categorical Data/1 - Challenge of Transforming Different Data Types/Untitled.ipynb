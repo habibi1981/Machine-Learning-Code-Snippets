{
 "cells": [
  {
   "cell_type": "code",
   "execution_count": 2,
   "metadata": {},
   "outputs": [],
   "source": [
    "# #It is important to prepare data prior to modeling. This may involve replacing missing values,\n",
    "# scaling numerical values, and one hot encoding categorical data. Data transforms can be\n",
    "# performed using the scikit-learn library; for example, the SimpleImputer class can be used to\n",
    "# replace missing values, the MinMaxScaler class can be used to scale numerical values, and the\n",
    "# OneHotEncoder can be used to encode categorical variables. For example:"
   ]
  },
  {
   "cell_type": "code",
   "execution_count": 3,
   "metadata": {},
   "outputs": [],
   "source": [
    "# ...\n",
    "# # prepare transform\n",
    "# scaler = MinMaxScaler()\n",
    "# # fit transform on training data\n",
    "# scaler.fit(train_X)\n",
    "# # transform training data\n",
    "# train_X = scaler.transform(train_X)"
   ]
  },
  {
   "cell_type": "code",
   "execution_count": 4,
   "metadata": {},
   "outputs": [],
   "source": [
    "# Sequences of di\u000b",
    "erent transforms can also be chained together using the Pipeline, such as\n",
    "# imputing missing values, then scaling numerical values. For example:"
   ]
  },
  {
   "cell_type": "code",
   "execution_count": 5,
   "metadata": {},
   "outputs": [],
   "source": [
    "# ...\n",
    "# # define pipeline\n",
    "# pipeline = Pipeline(steps=[('i', SimpleImputer(strategy='median')), ('s', MinMaxScaler())])\n",
    "# # transform training data\n",
    "# train_X = scaler.fit_transform(train_X)"
   ]
  },
  {
   "cell_type": "code",
   "execution_count": null,
   "metadata": {},
   "outputs": [],
   "source": [
    "# It is very common to want to perform di\u000b",
    "erent data preparation techniques on di\u000b",
    "erent\n",
    "# columns in your input data. For example, you may want to impute missing numerical values\n",
    "# with a median value, then scale the values and impute missing categorical values using the most\n",
    "# frequent value and one hot encode the categories.\n",
    "# Traditionally, this would require you to separate the numerical and categorical data and\n",
    "# then manually apply the transforms on those groups of features before combining the columns\n",
    "# back together in order to \f",
    "t and evaluate a model. Now, you can use the ColumnTransformer\n",
    "# to perform this operation for you."
   ]
  }
 ],
 "metadata": {
  "kernelspec": {
   "display_name": "Python 3",
   "language": "python",
   "name": "python3"
  },
  "language_info": {
   "codemirror_mode": {
    "name": "ipython",
    "version": 3
   },
   "file_extension": ".py",
   "mimetype": "text/x-python",
   "name": "python",
   "nbconvert_exporter": "python",
   "pygments_lexer": "ipython3",
   "version": "3.8.3"
  }
 },
 "nbformat": 4,
 "nbformat_minor": 4
}
