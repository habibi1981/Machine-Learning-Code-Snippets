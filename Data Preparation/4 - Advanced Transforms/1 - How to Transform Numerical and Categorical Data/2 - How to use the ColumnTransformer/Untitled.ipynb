{
 "cells": [
  {
   "cell_type": "code",
   "execution_count": 2,
   "metadata": {},
   "outputs": [],
   "source": [
    "# To use the ColumnTransformer, you\n",
    "# must specify a list of transformers. Each transformer is a three-element tuple that de\f",
    "nes the\n",
    "# name of the transformer, the transform to apply, and the column indices to apply it to. For\n",
    "# example:\n",
    "#(Name, Object, Columns)\n",
    "#transformer = ColumnTransformer(transformers=[('cat', OneHotEncoder(), [0, 1])])"
   ]
  },
  {
   "cell_type": "code",
   "execution_count": 3,
   "metadata": {},
   "outputs": [],
   "source": [
    "# t = [('num', SimpleImputer(strategy='median'), [0, 1]), ('cat',\n",
    "# SimpleImputer(strategy='most_frequent'), [2, 3])]\n",
    "# transformer = ColumnTransformer(transformers=t)"
   ]
  },
  {
   "cell_type": "code",
   "execution_count": 5,
   "metadata": {},
   "outputs": [],
   "source": [
    "# Any columns not speci\f",
    "ed in the list of transformers are dropped from the dataset by de-\n",
    "# fault; this can be changed by setting the remainder argument. Setting remainder=`passthrough'\n",
    "# will mean that all columns not speci\f",
    "ed in the list of transformers will be passed through\n",
    "# without transformation, instead of being dropped."
   ]
  },
  {
   "cell_type": "code",
   "execution_count": 7,
   "metadata": {},
   "outputs": [],
   "source": [
    "# transformer = ColumnTransformer(transformers=[('cat', OneHotEncoder(), [2, 3])], remainder='passthrough')"
   ]
  },
  {
   "cell_type": "code",
   "execution_count": 8,
   "metadata": {},
   "outputs": [],
   "source": [
    "# A ColumnTransformer can also be used in a Pipeline to selectively prepare the columns of\n",
    "# your dataset before \f",
    "tting a model on the transformed data."
   ]
  },
  {
   "cell_type": "code",
   "execution_count": null,
   "metadata": {},
   "outputs": [],
   "source": [
    "# # define model\n",
    "# model = LogisticRegression()\n",
    "# # define transform\n",
    "# transformer = ColumnTransformer(transformers=[('cat', OneHotEncoder(), [0, 1])])\n",
    "# # define pipeline\n",
    "# pipeline = Pipeline(steps=[('t', transformer), ('m',model)])\n",
    "# # fit the model on the transformed data\n",
    "# model.fit(train_X, train_y)\n",
    "# # make predictions\n",
    "# yhat = model.predict(test_X)"
   ]
  }
 ],
 "metadata": {
  "kernelspec": {
   "display_name": "Python 3",
   "language": "python",
   "name": "python3"
  },
  "language_info": {
   "codemirror_mode": {
    "name": "ipython",
    "version": 3
   },
   "file_extension": ".py",
   "mimetype": "text/x-python",
   "name": "python",
   "nbconvert_exporter": "python",
   "pygments_lexer": "ipython3",
   "version": "3.8.3"
  }
 },
 "nbformat": 4,
 "nbformat_minor": 4
}
