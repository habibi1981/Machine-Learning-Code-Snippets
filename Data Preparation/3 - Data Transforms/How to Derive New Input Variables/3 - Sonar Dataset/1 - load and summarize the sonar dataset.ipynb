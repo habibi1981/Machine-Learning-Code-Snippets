{
 "cells": [
  {
   "cell_type": "code",
   "execution_count": 1,
   "metadata": {},
   "outputs": [],
   "source": [
    "from pandas import read_csv\n",
    "from matplotlib import pyplot"
   ]
  },
  {
   "cell_type": "code",
   "execution_count": 2,
   "metadata": {},
   "outputs": [],
   "source": [
    "dataset = read_csv('../sonar.csv', header=None)"
   ]
  },
  {
   "cell_type": "code",
   "execution_count": 3,
   "metadata": {},
   "outputs": [
    {
     "name": "stdout",
     "output_type": "stream",
     "text": [
      "(208, 61)\n"
     ]
    }
   ],
   "source": [
    "print(dataset.shape)"
   ]
  },
  {
   "cell_type": "code",
   "execution_count": 5,
   "metadata": {},
   "outputs": [
    {
     "name": "stdout",
     "output_type": "stream",
     "text": [
      "               0           1           2           3           4           5   \\\n",
      "count  208.000000  208.000000  208.000000  208.000000  208.000000  208.000000   \n",
      "mean     0.029164    0.038437    0.043832    0.053892    0.075202    0.104570   \n",
      "std      0.022991    0.032960    0.038428    0.046528    0.055552    0.059105   \n",
      "min      0.001500    0.000600    0.001500    0.005800    0.006700    0.010200   \n",
      "25%      0.013350    0.016450    0.018950    0.024375    0.038050    0.067025   \n",
      "50%      0.022800    0.030800    0.034300    0.044050    0.062500    0.092150   \n",
      "75%      0.035550    0.047950    0.057950    0.064500    0.100275    0.134125   \n",
      "max      0.137100    0.233900    0.305900    0.426400    0.401000    0.382300   \n",
      "\n",
      "               6           7           8           9   ...          50  \\\n",
      "count  208.000000  208.000000  208.000000  208.000000  ...  208.000000   \n",
      "mean     0.121747    0.134799    0.178003    0.208259  ...    0.016069   \n",
      "std      0.061788    0.085152    0.118387    0.134416  ...    0.012008   \n",
      "min      0.003300    0.005500    0.007500    0.011300  ...    0.000000   \n",
      "25%      0.080900    0.080425    0.097025    0.111275  ...    0.008425   \n",
      "50%      0.106950    0.112100    0.152250    0.182400  ...    0.013900   \n",
      "75%      0.154000    0.169600    0.233425    0.268700  ...    0.020825   \n",
      "max      0.372900    0.459000    0.682800    0.710600  ...    0.100400   \n",
      "\n",
      "               51          52          53          54          55          56  \\\n",
      "count  208.000000  208.000000  208.000000  208.000000  208.000000  208.000000   \n",
      "mean     0.013420    0.010709    0.010941    0.009290    0.008222    0.007820   \n",
      "std      0.009634    0.007060    0.007301    0.007088    0.005736    0.005785   \n",
      "min      0.000800    0.000500    0.001000    0.000600    0.000400    0.000300   \n",
      "25%      0.007275    0.005075    0.005375    0.004150    0.004400    0.003700   \n",
      "50%      0.011400    0.009550    0.009300    0.007500    0.006850    0.005950   \n",
      "75%      0.016725    0.014900    0.014500    0.012100    0.010575    0.010425   \n",
      "max      0.070900    0.039000    0.035200    0.044700    0.039400    0.035500   \n",
      "\n",
      "               57          58          59  \n",
      "count  208.000000  208.000000  208.000000  \n",
      "mean     0.007949    0.007941    0.006507  \n",
      "std      0.006470    0.006181    0.005031  \n",
      "min      0.000300    0.000100    0.000600  \n",
      "25%      0.003600    0.003675    0.003100  \n",
      "50%      0.005800    0.006400    0.005300  \n",
      "75%      0.010350    0.010325    0.008525  \n",
      "max      0.044000    0.036400    0.043900  \n",
      "\n",
      "[8 rows x 60 columns]\n"
     ]
    }
   ],
   "source": [
    "print(dataset.describe())"
   ]
  },
  {
   "cell_type": "code",
   "execution_count": 6,
   "metadata": {},
   "outputs": [
    {
     "data": {
      "image/png": "[encoded data removed]",
      "text/plain": [
       "<Figure size 432x288 with 64 Axes>"
      ]
     },
     "metadata": {
      "needs_background": "light"
     },
     "output_type": "display_data"
    }
   ],
   "source": [
    "fig = dataset.hist(xlabelsize=4, ylabelsize=4)\n",
    "[x.title.set_size(4) for x in fig.ravel()]\n",
    "# show the plot\n",
    "pyplot.show()"
   ]
  },
  {
   "cell_type": "code",
   "execution_count": null,
   "metadata": {},
   "outputs": [],
   "source": []
  }
 ],
 "metadata": {
  "kernelspec": {
   "display_name": "Python 3",
   "language": "python",
   "name": "python3"
  },
  "language_info": {
   "codemirror_mode": {
    "name": "ipython",
    "version": 3
   },
   "file_extension": ".py",
   "mimetype": "text/x-python",
   "name": "python",
   "nbconvert_exporter": "python",
   "pygments_lexer": "ipython3",
   "version": "3.8.3"
  }
 },
 "nbformat": 4,
 "nbformat_minor": 4
}
