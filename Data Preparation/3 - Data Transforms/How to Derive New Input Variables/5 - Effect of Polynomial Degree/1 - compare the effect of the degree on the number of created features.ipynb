{
 "cells": [
  {
   "cell_type": "code",
   "execution_count": 1,
   "metadata": {},
   "outputs": [],
   "source": [
    "from pandas import read_csv\n",
    "from sklearn.preprocessing import LabelEncoder\n",
    "from sklearn.preprocessing import PolynomialFeatures\n",
    "from matplotlib import pyplot"
   ]
  },
  {
   "cell_type": "code",
   "execution_count": 7,
   "metadata": {},
   "outputs": [],
   "source": [
    "def get_dataset(filename):\n",
    "    dataset = read_csv(filename, header=None)\n",
    "    data = dataset.values\n",
    "    X, y = data[:, :-1], data[:, -1]\n",
    "    X = X.astype('float32')\n",
    "    y = LabelEncoder().fit_transform(y.astype('str'))\n",
    "    return X, y"
   ]
  },
  {
   "cell_type": "code",
   "execution_count": 8,
   "metadata": {},
   "outputs": [],
   "source": [
    "X, y = get_dataset('../sonar.csv')"
   ]
  },
  {
   "cell_type": "code",
   "execution_count": null,
   "metadata": {},
   "outputs": [],
   "source": [
    "num_features = list()\n",
    "degress = [i for i in range(1, 6)]\n",
    "for d in degress:\n",
    "    # create transform\n",
    "    trans = PolynomialFeatures(degree=d)\n",
    "    # fit and transform\n",
    "    data = trans.fit_transform(X)\n",
    "    # record number of features\n",
    "    num_features.append(data.shape[1])\n",
    "    # summarize\n",
    "    print('Degree: %d, Features: %d' % (d, data.shape[1]))\n"
   ]
  },
  {
   "cell_type": "code",
   "execution_count": null,
   "metadata": {},
   "outputs": [],
   "source": [
    "# plot degree vs number of features\n",
    "pyplot.plot(degress, num_features)\n",
    "pyplot.show()"
   ]
  }
 ],
 "metadata": {
  "kernelspec": {
   "display_name": "Python 3",
   "language": "python",
   "name": "python3"
  },
  "language_info": {
   "codemirror_mode": {
    "name": "ipython",
    "version": 3
   },
   "file_extension": ".py",
   "mimetype": "text/x-python",
   "name": "python",
   "nbconvert_exporter": "python",
   "pygments_lexer": "ipython3",
   "version": "3.8.3"
  }
 },
 "nbformat": 4,
 "nbformat_minor": 4
}
