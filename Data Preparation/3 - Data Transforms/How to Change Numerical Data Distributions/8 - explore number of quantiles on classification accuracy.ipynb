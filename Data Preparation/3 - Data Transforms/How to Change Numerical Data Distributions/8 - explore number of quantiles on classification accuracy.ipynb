{
 "cells": [
  {
   "cell_type": "code",
   "execution_count": 1,
   "metadata": {},
   "outputs": [],
   "source": [
    "from numpy import mean\n",
    "from numpy import std\n",
    "from pandas import read_csv\n",
    "from sklearn.model_selection import cross_val_score\n",
    "from sklearn.model_selection import RepeatedStratifiedKFold\n",
    "from sklearn.neighbors import KNeighborsClassifier\n",
    "from sklearn.preprocessing import QuantileTransformer\n",
    "from sklearn.preprocessing import LabelEncoder\n",
    "from sklearn.pipeline import Pipeline\n",
    "from matplotlib import pyplot"
   ]
  },
  {
   "cell_type": "code",
   "execution_count": 2,
   "metadata": {},
   "outputs": [],
   "source": [
    "def get_dataset(filename):\n",
    "    dataset = read_csv(filename, header=None)\n",
    "    data = dataset.values\n",
    "    X, y = data[:, :-1], data[:, -1]\n",
    "    X = X.astype('float32')\n",
    "    y = LabelEncoder().fit_transform(y.astype('str'))\n",
    "    return X, y"
   ]
  },
  {
   "cell_type": "code",
   "execution_count": 3,
   "metadata": {},
   "outputs": [],
   "source": [
    "def get_models():\n",
    "    models = dict()\n",
    "    for i in range(1,100):\n",
    "        trans = QuantileTransformer(n_quantiles=i, output_distribution='uniform')\n",
    "        model = KNeighborsClassifier()\n",
    "        models[str(i)] = Pipeline(steps=[('t', trans), ('m', model)])\n",
    "    return models"
   ]
  },
  {
   "cell_type": "code",
   "execution_count": 4,
   "metadata": {},
   "outputs": [],
   "source": [
    "def evaluate_model(model, X, y):\n",
    "    cv = RepeatedStratifiedKFold(n_splits=10, n_repeats=3, random_state=1)\n",
    "    scores = cross_val_score(model, X, y, scoring='accuracy', cv=cv, n_jobs=-1)\n",
    "    return scores"
   ]
  },
  {
   "cell_type": "code",
   "execution_count": 5,
   "metadata": {},
   "outputs": [],
   "source": [
    "X, y = get_dataset('sonar.csv')"
   ]
  },
  {
   "cell_type": "code",
   "execution_count": 6,
   "metadata": {},
   "outputs": [],
   "source": [
    "models = get_models()"
   ]
  },
  {
   "cell_type": "code",
   "execution_count": 7,
   "metadata": {},
   "outputs": [
    {
     "name": "stdout",
     "output_type": "stream",
     "text": [
      ">1 0.466 (0.016)\n",
      ">2 0.813 (0.085)\n",
      ">3 0.840 (0.080)\n",
      ">4 0.854 (0.075)\n",
      ">5 0.848 (0.072)\n",
      ">6 0.851 (0.071)\n",
      ">7 0.845 (0.071)\n",
      ">8 0.848 (0.066)\n",
      ">9 0.848 (0.071)\n",
      ">10 0.843 (0.074)\n",
      ">11 0.838 (0.069)\n",
      ">12 0.838 (0.069)\n",
      ">13 0.846 (0.071)\n",
      ">14 0.842 (0.071)\n",
      ">15 0.845 (0.068)\n",
      ">16 0.841 (0.074)\n",
      ">17 0.846 (0.071)\n",
      ">18 0.842 (0.075)\n",
      ">19 0.840 (0.075)\n",
      ">20 0.838 (0.076)\n",
      ">21 0.843 (0.071)\n",
      ">22 0.845 (0.073)\n",
      ">23 0.843 (0.068)\n",
      ">24 0.845 (0.072)\n",
      ">25 0.840 (0.077)\n",
      ">26 0.843 (0.072)\n",
      ">27 0.842 (0.073)\n",
      ">28 0.840 (0.076)\n",
      ">29 0.845 (0.072)\n",
      ">30 0.840 (0.075)\n",
      ">31 0.838 (0.076)\n",
      ">32 0.842 (0.075)\n",
      ">33 0.843 (0.074)\n",
      ">34 0.843 (0.075)\n",
      ">35 0.842 (0.075)\n",
      ">36 0.843 (0.073)\n",
      ">37 0.842 (0.075)\n",
      ">38 0.843 (0.075)\n",
      ">39 0.840 (0.076)\n",
      ">40 0.845 (0.074)\n",
      ">41 0.841 (0.072)\n",
      ">42 0.842 (0.075)\n",
      ">43 0.842 (0.074)\n",
      ">44 0.843 (0.074)\n",
      ">45 0.840 (0.076)\n",
      ">46 0.842 (0.075)\n",
      ">47 0.845 (0.072)\n",
      ">48 0.842 (0.073)\n",
      ">49 0.840 (0.073)\n",
      ">50 0.842 (0.072)\n",
      ">51 0.842 (0.075)\n",
      ">52 0.845 (0.071)\n",
      ">53 0.843 (0.075)\n",
      ">54 0.845 (0.074)\n",
      ">55 0.838 (0.076)\n",
      ">56 0.846 (0.073)\n",
      ">57 0.845 (0.073)\n",
      ">58 0.845 (0.075)\n",
      ">59 0.848 (0.073)\n",
      ">60 0.845 (0.074)\n",
      ">61 0.843 (0.073)\n",
      ">62 0.843 (0.074)\n",
      ">63 0.842 (0.075)\n",
      ">64 0.843 (0.073)\n",
      ">65 0.842 (0.074)\n",
      ">66 0.845 (0.074)\n",
      ">67 0.846 (0.075)\n",
      ">68 0.846 (0.072)\n",
      ">69 0.845 (0.076)\n",
      ">70 0.846 (0.075)\n",
      ">71 0.840 (0.075)\n",
      ">72 0.842 (0.074)\n",
      ">73 0.843 (0.073)\n",
      ">74 0.843 (0.075)\n",
      ">75 0.841 (0.075)\n",
      ">76 0.845 (0.074)\n",
      ">77 0.846 (0.074)\n",
      ">78 0.845 (0.076)\n",
      ">79 0.846 (0.072)\n",
      ">80 0.845 (0.075)\n",
      ">81 0.843 (0.073)\n",
      ">82 0.840 (0.076)\n",
      ">83 0.845 (0.075)\n",
      ">84 0.845 (0.074)\n",
      ">85 0.845 (0.074)\n",
      ">86 0.845 (0.076)\n",
      ">87 0.845 (0.075)\n",
      ">88 0.843 (0.075)\n",
      ">89 0.845 (0.074)\n",
      ">90 0.843 (0.075)\n",
      ">91 0.843 (0.074)\n",
      ">92 0.846 (0.074)\n",
      ">93 0.846 (0.075)\n",
      ">94 0.845 (0.076)\n",
      ">95 0.843 (0.074)\n",
      ">96 0.845 (0.074)\n",
      ">97 0.846 (0.073)\n",
      ">98 0.843 (0.073)\n",
      ">99 0.846 (0.075)\n"
     ]
    }
   ],
   "source": [
    "results = list()\n",
    "for name, model in models.items():\n",
    "    scores = evaluate_model(model, X, y)\n",
    "    results.append(mean(scores))\n",
    "    print('>%s %.3f (%.3f)' % (name, mean(scores), std(scores)))"
   ]
  },
  {
   "cell_type": "code",
   "execution_count": 8,
   "metadata": {},
   "outputs": [
    {
     "data": {
      "image/png": "[encoded data removed]",
      "text/plain": [
       "<Figure size 432x288 with 1 Axes>"
      ]
     },
     "metadata": {
      "needs_background": "light"
     },
     "output_type": "display_data"
    }
   ],
   "source": [
    "pyplot.plot(results)\n",
    "pyplot.show()"
   ]
  },
  {
   "cell_type": "code",
   "execution_count": null,
   "metadata": {},
   "outputs": [],
   "source": []
  }
 ],
 "metadata": {
  "kernelspec": {
   "display_name": "Python 3",
   "language": "python",
   "name": "python3"
  },
  "language_info": {
   "codemirror_mode": {
    "name": "ipython",
    "version": 3
   },
   "file_extension": ".py",
   "mimetype": "text/x-python",
   "name": "python",
   "nbconvert_exporter": "python",
   "pygments_lexer": "ipython3",
   "version": "3.8.5"
  }
 },
 "nbformat": 4,
 "nbformat_minor": 4
}
