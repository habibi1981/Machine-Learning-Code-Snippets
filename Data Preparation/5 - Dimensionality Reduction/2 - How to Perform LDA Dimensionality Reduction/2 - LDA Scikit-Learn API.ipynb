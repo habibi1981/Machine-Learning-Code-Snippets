{
 "cells": [
  {
   "cell_type": "markdown",
   "metadata": {},
   "source": [
    "# prepare dataset\n",
    "data = ...\n",
    "# define transform\n",
    "lda = LinearDiscriminantAnalysis()\n",
    "# prepare transform on dataset\n",
    "lda.fit(data)\n",
    "# apply transform to dataset\n",
    "transformed = lda.transform(data)\n"
   ]
  },
  {
   "cell_type": "markdown",
   "metadata": {},
   "source": [
    "# define the pipeline\n",
    "steps = [('lda', LinearDiscriminantAnalysis()), ('m', GaussianNB())]\n",
    "\n",
    "model = Pipeline(steps=steps)\n"
   ]
  },
  {
   "cell_type": "markdown",
   "metadata": {},
   "source": [
    "# define the pipeline\n",
    "steps = [('s', StandardScaler()), ('lda', LinearDiscriminantAnalysis()), ('m',\n",
    "GaussianNB())]\n",
    "\n",
    "model = Pipeline(steps=steps)"
   ]
  }
 ],
 "metadata": {
  "kernelspec": {
   "display_name": "Python 3",
   "language": "python",
   "name": "python3"
  },
  "language_info": {
   "codemirror_mode": {
    "name": "ipython",
    "version": 3
   },
   "file_extension": ".py",
   "mimetype": "text/x-python",
   "name": "python",
   "nbconvert_exporter": "python",
   "pygments_lexer": "ipython3",
   "version": "3.8.3"
  }
 },
 "nbformat": 4,
 "nbformat_minor": 4
}
